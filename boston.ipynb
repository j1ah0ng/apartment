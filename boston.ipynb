{
 "cells": [
  {
   "cell_type": "code",
   "execution_count": 1,
   "id": "fe903e2f-96ae-4145-82aa-2f17912da39c",
   "metadata": {},
   "outputs": [],
   "source": [
    "import googlemaps\n",
    "from dataclasses import dataclass, fields\n",
    "import os\n",
    "import datetime\n",
    "import numpy as np\n",
    "import pandas as pd\n",
    "\n",
    "from enum import Enum, auto\n",
    "from io import StringIO\n",
    "import typing as t\n",
    "from functools import cached_property"
   ]
  },
  {
   "cell_type": "code",
   "execution_count": 12,
   "id": "742f0d84-b18a-4828-bd66-3b50e15f8de0",
   "metadata": {},
   "outputs": [],
   "source": [
    "gmaps = googlemaps.Client(key=os.getenv(\"GMAPS_KEY\"))"
   ]
  },
  {
   "cell_type": "code",
   "execution_count": 3,
   "id": "9d66779d-ec01-4370-a4a6-ea3a8ea2e1fc",
   "metadata": {},
   "outputs": [],
   "source": [
    "def address_to_lat_long(address: str) -> tuple[float, float]:\n",
    "    \"\"\"Uses the google maps API to convert an address to a lat/long pair.\"\"\"\n",
    "    place = gmaps.geocode(address)\n",
    "    geometry = place[0][\"geometry\"]\n",
    "\n",
    "    if \"location\" in geometry:\n",
    "        loc = geometry[\"location\"]\n",
    "        return loc[\"lat\"], loc[\"lng\"]\n",
    "    elif \"bounds\" in geometry:\n",
    "        bounds = geometry[\"bounds\"].values()\n",
    "        lat = np.mean(k[\"lat\"] for k in bounds)\n",
    "        long = np.mean(k[\"long\"] for k in bounds)\n",
    "\n",
    "        return lat, long\n",
    "    else:\n",
    "        raise"
   ]
  },
  {
   "cell_type": "code",
   "execution_count": 4,
   "id": "de16dab1-08cd-47ac-8481-2faa7bb2d42b",
   "metadata": {},
   "outputs": [],
   "source": [
    "def transit_cost(\n",
    "    start: str, \n",
    "    end: str,\n",
    "    time: datetime.datetime = datetime.datetime.strptime(\"2024-4-01 10:00\", \"%Y-%m-%d %H:%M\"),\n",
    "    hourly_rate = 100.0,\n",
    ") -> float:\n",
    "    \"\"\"Computes the transit cost between two destinations including fare and time cost based on an hourly rate.\"\"\"\n",
    "    directions = gmaps.directions(start, end, mode=\"transit\", departure_time=time)[0]\n",
    "\n",
    "    if \"fare\"  in directions:        \n",
    "        transit_cost = directions[\"fare\"][\"value\"]\n",
    "    else:\n",
    "        transit_cost = 0\n",
    "    \n",
    "    legs = directions[\"legs\"][0]\n",
    "\n",
    "    if \"arrival_time\" in legs:\n",
    "        arriv_unix = legs[\"arrival_time\"][\"value\"]\n",
    "        depart_unix = legs[\"departure_time\"][\"value\"]\n",
    "        transit_time_secs = arriv_unix - depart_unix\n",
    "    elif \"duration\" in legs:\n",
    "        transit_time_secs = legs[\"duration\"][\"value\"]\n",
    "    else:\n",
    "        raise ValueError(legs)\n",
    "\n",
    "    hourly_cost = transit_time_secs / 3600.0 * hourly_rate\n",
    "\n",
    "    return hourly_cost + transit_cost"
   ]
  },
  {
   "cell_type": "code",
   "execution_count": 5,
   "id": "af89e10d-6e4e-46ed-a604-97afe605d1ec",
   "metadata": {},
   "outputs": [],
   "source": [
    "def find_nearest(start: str, query: str, limit_to: int = 3) -> list[t.Any]:\n",
    "    \"\"\"Finds the `limit_to` nearest results for `query` relative to `start`. Return a list of dicts.\"\"\"\n",
    "    results = gmaps.places(query=query, location=address_to_lat_long(start))[\"results\"]\n",
    "    relevant_results = [res for res in results if res[\"business_status\"] == \"OPERATIONAL\"][:limit_to]\n",
    "    return relevant_results"
   ]
  },
  {
   "cell_type": "code",
   "execution_count": 6,
   "id": "c051662a-acd4-40e6-8e08-2911912df0bb",
   "metadata": {},
   "outputs": [],
   "source": [
    "def oneway_cost_to_nearest_places(start: str, places: list[t.Any]) -> float:\n",
    "    \"\"\"Finds the cheapest one-way transit cost from `start` to anything in `places`.\"\"\"\n",
    "    return np.min([transit_cost(start, result[\"formatted_address\"]) for result in places])"
   ]
  },
  {
   "cell_type": "code",
   "execution_count": 7,
   "id": "6f60b289-bddc-43d5-a358-920bcea6aa46",
   "metadata": {},
   "outputs": [],
   "source": [
    "def oneway_cost_to_nearest(start: str, query: str) -> float:\n",
    "    \"\"\"Finds the cheapest one-way transit cost from `start` to some place described by `query`.\"\"\"\n",
    "    places = find_nearest(start, query)\n",
    "    return oneway_cost_to_nearest_places(start, places)"
   ]
  },
  {
   "cell_type": "code",
   "execution_count": 8,
   "id": "9557fde9-88b9-4889-89b3-9348799f5824",
   "metadata": {},
   "outputs": [],
   "source": [
    "def oneway_cost_to_campus(start: str) -> float:\n",
    "    \"\"\"Finds the one-way transit cost from `start` to BUMC.\"\"\"\n",
    "    BUMC = \"72 E Concord St, Boston, MA 02118\"\n",
    "    return oneway_cost_to_nearest_places(start, [gmaps.geocode(BUMC)[0]])"
   ]
  },
  {
   "cell_type": "code",
   "execution_count": 9,
   "id": "e601b960-5b40-4ddc-a048-e30748f29da5",
   "metadata": {},
   "outputs": [],
   "source": [
    "BOSTON_GYM_MONTHLY_COST = 50.0\n",
    "BOSTON_LAUNDROMAT_PER_LOAD_COST = 6.0\n",
    "\n",
    "N_LOADS_LAUNDRY_PER_WEEK = 2.5\n",
    "N_TIMES_ON_CAMPUS_PER_WEEK = 5\n",
    "N_TIMES_GYM_PER_WEEK = 5\n",
    "\n",
    "N_WEEKS_PER_MONTH = 4.35\n",
    "\n",
    "class Laundry(Enum):\n",
    "    IN_UNIT = \"IN_UNIT\"\n",
    "    IN_BUILDING = \"IN_BUILDING\"\n",
    "    OTHER = \"OTHER\"\n",
    "\n",
    "@dataclass\n",
    "class Apartment:\n",
    "    # Metadata\n",
    "    name: str\n",
    "    address: str\n",
    "    neighborhood: str\n",
    "\n",
    "    # Quantitative detail\n",
    "    monthly_rent: float\n",
    "    size: int\n",
    "\n",
    "    # Features\n",
    "    has_gym: bool\n",
    "    laundry: Laundry\n",
    "\n",
    "    def __post_init__(self):\n",
    "        for field in fields(self):\n",
    "            value = getattr(self, field.name)\n",
    "            if not isinstance(value, field.type):\n",
    "                setattr(self, field.name, field.type(value))\n",
    "\n",
    "\n",
    "    @cached_property\n",
    "    def nearby_gyms(self) -> list[t.Any]:\n",
    "        return find_nearest(self.address, \"gym\")\n",
    "\n",
    "\n",
    "    @cached_property\n",
    "    def gym_monthly_cost(self) -> float:\n",
    "        base = 0.0\n",
    "        if not self.has_gym:\n",
    "            base += BOSTON_GYM_MONTHLY_COST\n",
    "            base += (\n",
    "                (2 * oneway_cost_to_nearest_places(self.address, self.nearby_gyms)) \n",
    "                * N_TIMES_GYM_PER_WEEK \n",
    "                * N_WEEKS_PER_MONTH\n",
    "            )\n",
    "        return base\n",
    "\n",
    "    @cached_property\n",
    "    def bu_commute_cost(self) -> float:\n",
    "        return (\n",
    "            (2.0 * oneway_cost_to_campus(self.address))\n",
    "            * N_TIMES_ON_CAMPUS_PER_WEEK\n",
    "            * N_WEEKS_PER_MONTH\n",
    "        )\n",
    "\n",
    "    @cached_property\n",
    "    def real_monthly_cost(self) -> float:\n",
    "        base = self.monthly_rent\n",
    "        base += self.gym_monthly_cost\n",
    "        base += self.bu_commute_cost\n",
    "        return base"
   ]
  },
  {
   "cell_type": "code",
   "execution_count": 10,
   "id": "9b236caa-1859-4e18-b1cd-e5270d352367",
   "metadata": {},
   "outputs": [
    {
     "data": {
      "text/plain": [
       "Apartment(name='1550 on the charles', address='1550 Soldiers Field Rd, Boston, MA 02135', neighborhood='cambridge', monthly_rent=2728.0, size=632, has_gym=True, laundry=<Laundry.IN_UNIT: 'IN_UNIT'>)"
      ]
     },
     "execution_count": 10,
     "metadata": {},
     "output_type": "execute_result"
    }
   ],
   "source": [
    "csv = \"\"\"\n",
    "name,address,monthly_rent,has_gym,laundry,size,neighborhood\n",
    "1550 on the charles,\"1550 Soldiers Field Rd, Boston, MA 02135\",\"$2,728\",TRUE,IN_UNIT,632,cambridge\n",
    "park 151,\"151 N 1st St., Boston, MA\",\"$3,595\",TRUE,IN_UNIT,579,allston\n",
    "burbank apts,\"18 Haviland St, Boston, MA 02115\",,,IN_UNIT,385,fenway\n",
    "columbia flats,\"1258 Massachusetts Ave, Dorchester, MA 02125\",\"$3,000\",TRUE,IN_UNIT,108,dorchester\n",
    "piano craft guild,\"791 Tremont St, Boston, MA 02118\",\"$3,600\",TRUE,IN_BUILDING,1250,south end\n",
    "the andi,\"4 Lucy St, Boston, MA 02125\",\"$3,136\",TRUE,IN_UNIT,754,dorchester\n",
    "125 warren,\"125 Warren St, Boston, MA 02119\",\"$2,900\",FALSE,IN_BUILDING,830,lower roxbury\n",
    "the melnea residences,\"431 Melnea Cass Blvd, Boston, MA 02119\",\"$3,590\",FALSE,IN_UNIT,907,south end/roxbury\n",
    "the cara,\"13 Shetland St, Roxbury, MA 02119\",\"$2,850\",TRUE,IN_UNIT,706,roxbury\n",
    "dot block,\"1211 Dorchester Ave, Boston, MA 02125\",\"$2,900\",TRUE,IN_UNIT,551,dorchester\n",
    "metromark,\"3593-3615 Washington St, Jamaica Plain, MA 02130\",\"$2,614\",TRUE,IN_UNIT,676,jamaica plain\n",
    "flats on d,\"411 D St, Boston, MA 02210\",\"$3,400\",TRUE,IN_UNIT,730,waterfront\n",
    "hub25,\"25 Morrissey Blvd, Boston, MA 02125\",\"$2,952\",TRUE,IN_UNIT,680,columbia point\n",
    "3200 washington,\"3200 Washington St, Boston, MA 02130\",\"$3,200\",TRUE,IN_UNIT,650,jamaica plain\n",
    "250 centre,\"250 Centre St, Boston, MA 02119\",\"$2,795\",TRUE,IN_UNIT,635,jamaica plain\n",
    "the laneway,\"9 Burney St, Boston, MA 02120\",\"$3,200\",TRUE,IN_UNIT,577,mission hill\n",
    "carson towers,\"1410 Columbia Rd, Boston, MA 02127\",\"$2,850\",TRUE,IN_BUILDING,557,waterfront\n",
    "the monroe,\"105 Washington St, Brighton, MA 02135\",\"$3,500\",TRUE,IN_UNIT,550,brighton\n",
    "south standard,\"235 Old Colony Ave, Boston, MA 02127\",\"$3,345\",TRUE,IN_UNIT,688,waterfront/southside\"\"\"\n",
    "df = pd.read_csv(StringIO(csv)).dropna()\n",
    "df[\"monthly_rent\"] = df[\"monthly_rent\"].str.replace(r\"[^.0-9\\-]\", \"\", regex=True)\n",
    "apts = df.apply(lambda r: Apartment(**r), axis=1)\n",
    "apts[0]"
   ]
  },
  {
   "cell_type": "code",
   "execution_count": 11,
   "id": "99f37f4d-c07f-4179-8092-8ab46b583625",
   "metadata": {},
   "outputs": [
    {
     "data": {
      "text/plain": [
       "[(Apartment(name='the cara', address='13 Shetland St, Roxbury, MA 02119', neighborhood='roxbury', monthly_rent=2850.0, size=706, has_gym=True, laundry=<Laundry.IN_UNIT: 'IN_UNIT'>),\n",
       "  3824.1583333333333),\n",
       " (Apartment(name='columbia flats', address='1258 Massachusetts Ave, Dorchester, MA 02125', neighborhood='dorchester', monthly_rent=3000.0, size=108, has_gym=True, laundry=<Laundry.IN_UNIT: 'IN_UNIT'>),\n",
       "  4209.783333333333),\n",
       " (Apartment(name='the andi', address='4 Lucy St, Boston, MA 02125', neighborhood='dorchester', monthly_rent=3136.0, size=754, has_gym=True, laundry=<Laundry.IN_UNIT: 'IN_UNIT'>),\n",
       "  4325.241666666667),\n",
       " (Apartment(name='piano craft guild', address='791 Tremont St, Boston, MA 02118', neighborhood='south end', monthly_rent=3600.0, size=1250, has_gym=True, laundry=<Laundry.IN_BUILDING: 'IN_BUILDING'>),\n",
       "  4426.741666666667),\n",
       " (Apartment(name='south standard', address='235 Old Colony Ave, Boston, MA 02127', neighborhood='waterfront/southside', monthly_rent=3345.0, size=688, has_gym=True, laundry=<Laundry.IN_UNIT: 'IN_UNIT'>),\n",
       "  4582.575),\n",
       " (Apartment(name='125 warren', address='125 Warren St, Boston, MA 02119', neighborhood='lower roxbury', monthly_rent=2900.0, size=830, has_gym=False, laundry=<Laundry.IN_BUILDING: 'IN_BUILDING'>),\n",
       "  4612.908333333333),\n",
       " (Apartment(name='the melnea residences', address='431 Melnea Cass Blvd, Boston, MA 02119', neighborhood='south end/roxbury', monthly_rent=3590.0, size=907, has_gym=False, laundry=<Laundry.IN_UNIT: 'IN_UNIT'>),\n",
       "  4617.783333333334),\n",
       " (Apartment(name='250 centre', address='250 Centre St, Boston, MA 02119', neighborhood='jamaica plain', monthly_rent=2795.0, size=635, has_gym=True, laundry=<Laundry.IN_UNIT: 'IN_UNIT'>),\n",
       "  4646.891666666666),\n",
       " (Apartment(name='hub25', address='25 Morrissey Blvd, Boston, MA 02125', neighborhood='columbia point', monthly_rent=2952.0, size=680, has_gym=True, laundry=<Laundry.IN_UNIT: 'IN_UNIT'>),\n",
       "  4785.283333333333),\n",
       " (Apartment(name='carson towers', address='1410 Columbia Rd, Boston, MA 02127', neighborhood='waterfront', monthly_rent=2850.0, size=557, has_gym=True, laundry=<Laundry.IN_BUILDING: 'IN_BUILDING'>),\n",
       "  4879.033333333333),\n",
       " (Apartment(name='the laneway', address='9 Burney St, Boston, MA 02120', neighborhood='mission hill', monthly_rent=3200.0, size=577, has_gym=True, laundry=<Laundry.IN_UNIT: 'IN_UNIT'>),\n",
       "  5411.491666666667),\n",
       " (Apartment(name='metromark', address='3593-3615 Washington St, Jamaica Plain, MA 02130', neighborhood='jamaica plain', monthly_rent=2614.0, size=676, has_gym=True, laundry=<Laundry.IN_UNIT: 'IN_UNIT'>),\n",
       "  5493.9416666666675),\n",
       " (Apartment(name='3200 washington', address='3200 Washington St, Boston, MA 02130', neighborhood='jamaica plain', monthly_rent=3200.0, size=650, has_gym=True, laundry=<Laundry.IN_UNIT: 'IN_UNIT'>),\n",
       "  5766.983333333334),\n",
       " (Apartment(name='dot block', address='1211 Dorchester Ave, Boston, MA 02125', neighborhood='dorchester', monthly_rent=2900.0, size=551, has_gym=True, laundry=<Laundry.IN_UNIT: 'IN_UNIT'>),\n",
       "  5857.275000000001),\n",
       " (Apartment(name='flats on d', address='411 D St, Boston, MA 02210', neighborhood='waterfront', monthly_rent=3400.0, size=730, has_gym=True, laundry=<Laundry.IN_UNIT: 'IN_UNIT'>),\n",
       "  6109.808333333334),\n",
       " (Apartment(name='park 151', address='151 N 1st St., Boston, MA', neighborhood='allston', monthly_rent=3595.0, size=579, has_gym=True, laundry=<Laundry.IN_UNIT: 'IN_UNIT'>),\n",
       "  6778.474999999999),\n",
       " (Apartment(name='1550 on the charles', address='1550 Soldiers Field Rd, Boston, MA 02135', neighborhood='cambridge', monthly_rent=2728.0, size=632, has_gym=True, laundry=<Laundry.IN_UNIT: 'IN_UNIT'>),\n",
       "  7077.275),\n",
       " (Apartment(name='the monroe', address='105 Washington St, Brighton, MA 02135', neighborhood='brighton', monthly_rent=3500.0, size=550, has_gym=True, laundry=<Laundry.IN_UNIT: 'IN_UNIT'>),\n",
       "  7759.858333333334)]"
      ]
     },
     "execution_count": 11,
     "metadata": {},
     "output_type": "execute_result"
    }
   ],
   "source": [
    "[(x, x.real_monthly_cost) for x in sorted(apts, key=lambda x: x.real_monthly_cost)]"
   ]
  }
 ],
 "metadata": {
  "kernelspec": {
   "display_name": "Python 3 (ipykernel)",
   "language": "python",
   "name": "python3"
  },
  "language_info": {
   "codemirror_mode": {
    "name": "ipython",
    "version": 3
   },
   "file_extension": ".py",
   "mimetype": "text/x-python",
   "name": "python",
   "nbconvert_exporter": "python",
   "pygments_lexer": "ipython3",
   "version": "3.11.7"
  }
 },
 "nbformat": 4,
 "nbformat_minor": 5
}
